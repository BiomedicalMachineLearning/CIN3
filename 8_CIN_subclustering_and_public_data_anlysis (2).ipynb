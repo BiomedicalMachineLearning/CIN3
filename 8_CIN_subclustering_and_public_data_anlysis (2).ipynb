{
 "cells": [
  {
   "cell_type": "code",
   "execution_count": null,
   "id": "7f08c5c4-6be0-4b78-af68-c7b3646018a8",
   "metadata": {
    "scrolled": true,
    "vscode": {
     "languageId": "r"
    }
   },
   "outputs": [],
   "source": [
    "library(Matrix)\n",
    "library(Seurat)\n",
    "library(SeuratObject)\n",
    "library(dplyr)\n",
    "library(ggplot2)\n",
    "library(gridExtra)\n",
    "library(DropletUtils)\n",
    "library(patchwork)"
   ]
  },
  {
   "cell_type": "markdown",
   "id": "c01c4777-ef37-40db-b5c5-d7c927738d1f",
   "metadata": {},
   "source": [
    "## Load Data "
   ]
  },
  {
   "cell_type": "code",
   "execution_count": null,
   "id": "097511db-92d7-4932-8154-78c9ebae5cac",
   "metadata": {
    "vscode": {
     "languageId": "r"
    }
   },
   "outputs": [],
   "source": [
    "int.data <- readRDS(file = \"./data/integrated_data.RDS\")"
   ]
  },
  {
   "cell_type": "markdown",
   "id": "db1276cd-c746-4644-a7d1-1fcdd6c214cc",
   "metadata": {},
   "source": [
    "## Split into Individual Samples"
   ]
  },
  {
   "cell_type": "code",
   "execution_count": null,
   "id": "869a298a-ac06-48f8-a8ae-0e45bcd2073f",
   "metadata": {
    "scrolled": true,
    "vscode": {
     "languageId": "r"
    }
   },
   "outputs": [],
   "source": [
    "data_list <- list()\n",
    "for (sample in unique(int.data$sample)){\n",
    "    data_list[[sample]] <- subset(int.data, cells = rownames(int.data@meta.data[int.data@meta.data$sample == sample,]))\n",
    "}"
   ]
  },
  {
   "cell_type": "markdown",
   "id": "8ac47b1a-43af-4834-a8c6-117e273abe76",
   "metadata": {},
   "source": [
    "## Cluster Individual Samples"
   ]
  },
  {
   "cell_type": "code",
   "execution_count": null,
   "id": "6d55799b-0a8e-4949-9e7d-5380b319f59d",
   "metadata": {
    "vscode": {
     "languageId": "r"
    }
   },
   "outputs": [],
   "source": [
    "for (sample in names(data_list)){\n",
    "    DefaultAssay(data_list[[sample]]) <- \"SCT\"\n",
    "    data_list[[sample]] <- FindVariableFeatures(data_list[[sample]])\n",
    "    data_list[[sample]] <- RunPCA(data_list[[sample]], assay = \"SCT\", verbose = FALSE)\n",
    "    data_list[[sample]] <- FindNeighbors(data_list[[sample]], reduction = \"pca\", dims = 1:30, verbose = FALSE)\n",
    "    data_list[[sample]] <- RunUMAP(data_list[[sample]], reduction = \"pca\", dims = 1:30, verbose = FALSE)\n",
    "    data_list[[sample]] <- FindClusters(data_list[[sample]], resolution = 0.3, verbose = FALSE)\n",
    "}"
   ]
  },
  {
   "cell_type": "code",
   "execution_count": null,
   "id": "82984433-b580-4832-9f75-5171fedd3848",
   "metadata": {
    "vscode": {
     "languageId": "r"
    }
   },
   "outputs": [],
   "source": [
    "UMAPs_plots <- list()\n",
    "Spatial_plots <- list()\n",
    "Vln_Plots <- list()\n",
    "for (sample in names(data_list)){\n",
    "    UMAPs_plots[[sample]] <- DimPlot(data_list[[sample]])/DimPlot(data_list[[sample]], group.by = \"integrated_snn_res.0.3\")\n",
    "    Spatial_plots[[sample]] <-  SpatialDimPlot(data_list[[sample]])/SpatialDimPlot(data_list[[sample]], group.by = \"integrated_snn_res.0.3\")  \n",
    "    Vln_Plots[[sample]] <-  VlnPlot(data_list[[sample]], features = \"Cancer_MS\", group.by = \"seurat_clusters\")/VlnPlot(data_list[[sample]], features = \"Cancer_MS\", group.by = \"integrated_snn_res.0.3\")\n",
    "                        \n",
    "}"
   ]
  },
  {
   "cell_type": "code",
   "execution_count": null,
   "id": "feb4cf51-e647-450d-abc8-a9dc6deaa556",
   "metadata": {
    "scrolled": true,
    "vscode": {
     "languageId": "r"
    }
   },
   "outputs": [],
   "source": [
    "options(repr.plot.width = 30, repr.plot.height = 10)\n",
    "wrap_plots(UMAPs_plots, ncol = length(UMAPs_plots))\n",
    "wrap_plots(Spatial_plots,ncol = length(Spatial_plots)) \n",
    "wrap_plots(Vln_Plots,ncol = length(Vln_Plots))"
   ]
  },
  {
   "cell_type": "markdown",
   "id": "421707ee-6a75-42d9-a3a0-e8cabbb4f446",
   "metadata": {},
   "source": [
    "## SubCluster cluster 8 Individually"
   ]
  },
  {
   "cell_type": "code",
   "execution_count": null,
   "id": "b1aa1667-c644-463f-bafd-07219c27522e",
   "metadata": {
    "vscode": {
     "languageId": "r"
    }
   },
   "outputs": [],
   "source": [
    "subs <- list()\n",
    "for (sample in names(data_list)){\n",
    "    subs[[sample]] <- subset(data_list[[sample]], subset = integrated_snn_res.0.3 == 8)\n",
    "    subs[[sample]] <- RunPCA(subs[[sample]], assay = \"SCT\", verbose = FALSE)\n",
    "    subs[[sample]] <- FindNeighbors(subs[[sample]], reduction = \"pca\", dims = 1:30, verbose = FALSE)\n",
    "    subs[[sample]] <- RunUMAP(subs[[sample]], reduction = \"pca\", dims = 1:30, verbose = FALSE)\n",
    "    subs[[sample]] <- FindClusters(subs[[sample]], resolution = 0.3, cluster.name = \"cluster8_ind\", verbose = FALSE)\n",
    "}"
   ]
  },
  {
   "cell_type": "code",
   "execution_count": null,
   "id": "370bc9ee-e865-41cd-9e88-6320cfbc0722",
   "metadata": {
    "vscode": {
     "languageId": "r"
    }
   },
   "outputs": [],
   "source": [
    "for (sample in names(subs)){\n",
    "    subs[[sample]] <- AddModuleScore(object =  subs[[sample]], features = list(\"cin\" = c('SERPINB13','SERPINB5','CLDN1','TP63','CDKN2A','TNS4','DSC3')), name = \"CIN_genes\", assay = \"SCT\", nbin = 5)             \n",
    "    subs[[sample]] <- AddModuleScore(object =  subs[[sample]], features = list(\"normal\" = c('KRT6C','GJB6','SBSN','KRTDAP','KRT6B')), name = \"normal_genes\", assay = \"SCT\", nbin = 5)             \n",
    "}"
   ]
  },
  {
   "cell_type": "code",
   "execution_count": null,
   "id": "aeb6b42f-7e4c-4ade-b783-572d7cd69153",
   "metadata": {
    "vscode": {
     "languageId": "r"
    }
   },
   "outputs": [],
   "source": [
    "UMAPs_plots <- list()\n",
    "Spatial_plots <- list()\n",
    "CIN_VlnPlots <- list()\n",
    "normal_VlnPlots <- list()\n",
    "for (sample in names(data_list)){\n",
    "    UMAPs_plots[[sample]] <- DimPlot(subs[[sample]], group.by = \"cluster8_ind\")/DimPlot(subs[[sample]], group.by = \"SCT_snn_res.0.3\")\n",
    "    Spatial_plots[[sample]] <-  SpatialDimPlot(subs[[sample]], group.by = \"cluster8_ind\", crop = FALSE)/SpatialDimPlot(subs[[sample]], group.by = \"SCT_snn_res.0.3\", crop = FALSE)  \n",
    "    CIN_VlnPlots[[sample]] <-  VlnPlot(subs[[sample]], features = \"CIN_genes1\", group.by = \"cluster8_ind\")/VlnPlot(subs[[sample]], features = \"CIN_genes1\", group.by = \"SCT_snn_res.0.3\")                   \n",
    "    normal_VlnPlots[[sample]] <-  VlnPlot(subs[[sample]], features = \"normal_genes1\", group.by = \"cluster8_ind\")/VlnPlot(subs[[sample]], features = \"normal_genes1\", group.by = \"SCT_snn_res.0.3\")                   \n",
    "\n",
    "}"
   ]
  },
  {
   "cell_type": "code",
   "execution_count": null,
   "id": "d2185b91-823a-450d-ac5d-f592f759719a",
   "metadata": {
    "vscode": {
     "languageId": "r"
    }
   },
   "outputs": [],
   "source": [
    "options(repr.plot.width = 30, repr.plot.height = 10)\n",
    "wrap_plots(UMAPs_plots, ncol = length(UMAPs_plots))\n",
    "wrap_plots(Spatial_plots,ncol = length(Spatial_plots)) \n",
    "wrap_plots(CIN_VlnPlots,ncol = length(CIN_VlnPlots))\n",
    "wrap_plots(normal_VlnPlots,ncol = length(normal_VlnPlots))"
   ]
  },
  {
   "cell_type": "code",
   "execution_count": null,
   "id": "100d3ed9-9874-481d-a2af-30e4d92b0953",
   "metadata": {
    "vscode": {
     "languageId": "r"
    }
   },
   "outputs": [],
   "source": [
    "subs[[1]]$match_annotation <- ifelse(subs[[1]]$cluster8_ind == 1, \"CIN\", \"NON-SCC (p16+)\")\n",
    "subs[[2]]$match_annotation <- ifelse(subs[[2]]$cluster8_ind == 1, \"SCC\", \"CIN\")\n",
    "subs[[3]]$match_annotation <- ifelse(subs[[3]]$cluster8_ind == 1, \"CIN\", \"CIN\")\n",
    "subs[[4]]$match_annotation <- ifelse(subs[[4]]$cluster8_ind == 1, \"NON-SCC\", \"CIN\")\n",
    "subs[[5]]$match_annotation <- ifelse(subs[[5]]$cluster8_ind == 2, \"CIN\", \"NON-SCC\")\n",
    "subs[[6]]$match_annotation <- ifelse(subs[[6]]$cluster8_ind == 0, \"NON-SCC\", \"CIN\")\n",
    "subs[[7]]$match_annotation <- ifelse(subs[[7]]$cluster8_ind == 0, \"NON-SCC\", \"CIN\")"
   ]
  },
  {
   "cell_type": "markdown",
   "id": "5480ce6c-2e81-48da-a35e-6ee834fa0fea",
   "metadata": {},
   "source": [
    "## Add Annotations back to integrated object"
   ]
  },
  {
   "cell_type": "code",
   "execution_count": null,
   "id": "18c12f72-af7e-4971-81a3-a58466e00e95",
   "metadata": {
    "vscode": {
     "languageId": "r"
    }
   },
   "outputs": [],
   "source": [
    "for (sample in names(subs)){\n",
    "    data_list[[sample]]$cluster8_ind <- ifelse(\n",
    "      rownames(data_list[[sample]]@meta.data) %in% rownames(subs[[sample]]@meta.data),\n",
    "       paste0(subs[[sample]]$cluster8_ind[match(rownames(data_list[[sample]]@meta.data), rownames(subs[[sample]]@meta.data))],\"_\",sample),\n",
    "      \"Other\")\n",
    "}"
   ]
  },
  {
   "cell_type": "code",
   "execution_count": null,
   "id": "0c6a6f73-971d-4c01-8034-2f18541d8bd5",
   "metadata": {
    "vscode": {
     "languageId": "r"
    }
   },
   "outputs": [],
   "source": [
    "for (sample in names(subs)){\n",
    "    data_list[[sample]]$cluster_annotations <- ifelse(\n",
    "      rownames(data_list[[sample]]@meta.data) %in% rownames(subs[[sample]]@meta.data),\n",
    "       subs[[sample]]$match_annotation[match(rownames(data_list[[sample]]@meta.data), rownames(subs[[sample]]@meta.data))],\n",
    "      \"Other\")\n",
    "}"
   ]
  },
  {
   "cell_type": "code",
   "execution_count": null,
   "id": "68fc7c71-2cd3-4edc-8857-2db917b2f53a",
   "metadata": {
    "vscode": {
     "languageId": "r"
    }
   },
   "outputs": [],
   "source": [
    "for (sample in names(subs)){\n",
    "    data_list[[sample]]$cluster_de <- ifelse(\n",
    "      rownames(data_list[[sample]]@meta.data) %in% rownames(subs[[sample]]@meta.data),\n",
    "       subs[[sample]]$match_annotation[match(rownames(data_list[[sample]]@meta.data), rownames(subs[[sample]]@meta.data))],\n",
    "      data_list[[sample]]$integrated_snn_res.0.3)\n",
    "}"
   ]
  },
  {
   "cell_type": "code",
   "execution_count": null,
   "id": "cd176130-1a5c-4fa1-85d2-b46c4964e59e",
   "metadata": {
    "vscode": {
     "languageId": "r"
    }
   },
   "outputs": [],
   "source": [
    "## merge data objects\n",
    "merge <- merge(data_list[[1]], data_list[2:length(data_list)])\n",
    "int.data$individual_clustering <- merge$SCT_snn_res.0.3\n",
    "int.data$cluster8_ind <- merge$cluster8_ind\n",
    "int.data$cluster_annotations <- merge$cluster_annotations\n",
    "int.data$cluster_de <- merge$cluster_de"
   ]
  },
  {
   "cell_type": "code",
   "execution_count": null,
   "id": "f99d9da2-f507-4c94-aadf-a7df75068d3d",
   "metadata": {
    "scrolled": true,
    "vscode": {
     "languageId": "r"
    }
   },
   "outputs": [],
   "source": [
    "int.data$cluster_de <- ifelse(!int.data$cluster_de %in% c(\"CIN\", \"NON-SCC (p16+)\",\"SCC\", \"NON-SCC\"), (as.integer(int.data$cluster_de)-1), int.data$cluster_de)"
   ]
  },
  {
   "cell_type": "code",
   "execution_count": null,
   "id": "cc7f07bf-07f8-4873-9ab1-19f865a31d4a",
   "metadata": {
    "vscode": {
     "languageId": "r"
    }
   },
   "outputs": [],
   "source": [
    "options(repr.plot.width = 25, repr.plot.height = 8)\n",
    "DimPlot(int.data , group.by = c(\"integrated_snn_res.0.3\"))|DimPlot(int.data , group.by = c(\"cluster_de\"), label = T)|FeaturePlot(int.data, features = \"sct_CDKN2A\", slot = \"data\")\n",
    "FeaturePlot(int.data, features = \"sct_SERPINB3\", slot = \"data\")|FeaturePlot(int.data, features = \"sct_TP63\", slot = \"data\")|FeaturePlot(int.data, features = \"sct_KRT5\", slot = \"data\")"
   ]
  },
  {
   "cell_type": "code",
   "execution_count": null,
   "id": "2b78e0c2-0ce9-4291-9dde-17ba99fd2bc8",
   "metadata": {
    "vscode": {
     "languageId": "r"
    }
   },
   "outputs": [],
   "source": [
    "options(repr.plot.width = 8, repr.plot.height =8)\n",
    "p <- DimPlot(int.data , group.by = c(\"integrated_snn_res.0.3\"))\n",
    "\n",
    "ggsave(p, filename = \"~/umap.pdf\", height = 8, width = 8)"
   ]
  },
  {
   "cell_type": "code",
   "execution_count": null,
   "id": "fbe79cea-de23-48c7-9f14-0e496e04bb4b",
   "metadata": {
    "scrolled": true,
    "vscode": {
     "languageId": "r"
    }
   },
   "outputs": [],
   "source": [
    "sub <- subset(int.data, subset = integrated_snn_res.0.3 == 8)"
   ]
  },
  {
   "cell_type": "code",
   "execution_count": null,
   "id": "4dcfbd77-9dca-4212-9446-97404cff1bc6",
   "metadata": {
    "vscode": {
     "languageId": "r"
    }
   },
   "outputs": [],
   "source": [
    "options(repr.plot.width = 20, repr.plot.height = 15)\n",
    "\n",
    "p <- SpatialDimPlot(sub, group.by = \"cluster8_ind\", crop = F, pt.size.factor = 2, ncol = 3)\n",
    "p\n",
    "ggsave(p, filename = \"~/CIN_subcluster_ind.pdf\", height = 15, width = 20)"
   ]
  },
  {
   "cell_type": "code",
   "execution_count": null,
   "id": "96c8e41e-625d-4c3b-8f95-3686d2c26c6f",
   "metadata": {
    "vscode": {
     "languageId": "r"
    }
   },
   "outputs": [],
   "source": [
    "options(repr.plot.width = 7, repr.plot.height = 7)\n",
    "p<-  DimPlot(sub, group.by = \"cluster_de\")\n",
    "\n",
    "ggsave(p, filename = \"~/CIN_subcluster_umap.pdf\", height = 7, width = 7)"
   ]
  },
  {
   "cell_type": "code",
   "execution_count": null,
   "id": "bea9f8eb-cbc6-49a3-a45a-5ccbc0424a64",
   "metadata": {
    "scrolled": true,
    "vscode": {
     "languageId": "r"
    }
   },
   "outputs": [],
   "source": [
    "source(\"https://raw.githubusercontent.com/agc888/Helper-Scripts-for-Bioinformatics/refs/heads/main/R%20Scripts/Pseudobulking_DE_Seurat.r\")"
   ]
  },
  {
   "cell_type": "code",
   "execution_count": null,
   "id": "c2a6f137-5af2-433a-a9a3-6b91ad651b68",
   "metadata": {
    "vscode": {
     "languageId": "r"
    }
   },
   "outputs": [],
   "source": [
    "sub <- JoinLayers(sub, assay = \"Spatial\")\n",
    "sub$check_subclusters <- ifelse(sub$cluster_de == \"CIN\", \"C\", ifelse(sub$cluster_de == \"NON-SCC\", \"N\", ifelse(sub$cluster_de == \"SCC\", \"S\",\"P\"))) \n",
    "sub$check_subclusters <- paste0(sub$cluster8_ind, \"_\", sub$check_subclusters)"
   ]
  },
  {
   "cell_type": "code",
   "execution_count": null,
   "id": "6db95709-84f1-42da-99dd-3befe8f17a94",
   "metadata": {
    "vscode": {
     "languageId": "r"
    }
   },
   "outputs": [],
   "source": [
    "edger_obj <- FindAllDEGs(sub, ident = \"check_subclusters\", n = 1)"
   ]
  },
  {
   "cell_type": "code",
   "execution_count": null,
   "id": "e329e88c-6a80-4a54-b440-c8193c71c7e8",
   "metadata": {
    "scrolled": true,
    "vscode": {
     "languageId": "r"
    }
   },
   "outputs": [],
   "source": [
    "edger_obj$samples$type <- unlist(lapply(rownames(edger_obj$samples), function(x){strsplit(x, split = \"_\")[[1]][4]}))\n",
    "\n",
    "edger_obj$samples$type <- ifelse(edger_obj$samples$type == \"C\", \"CIN\",\n",
    "       ifelse(edger_obj$samples$type == \"N\", \"NON-SCC\",\n",
    "             ifelse(edger_obj$samples$type == \"S\", \"SCC\", \"NON-SCC(p16+)\")))"
   ]
  },
  {
   "cell_type": "code",
   "execution_count": null,
   "id": "4c36c28a-c02f-4d57-84e6-7192ae620d63",
   "metadata": {
    "scrolled": true,
    "vscode": {
     "languageId": "r"
    }
   },
   "outputs": [],
   "source": [
    "gene_markers <- list(\"cin\" = c('SERPINB13','SERPINB5','CLDN1','TP63','CDKN2A','TNS4','DSC3'),\n",
    "     \"scc\" = c('CASP14','PSORS1C2','DNAH17','SERPINB12','SLC44A5','TCHH','PNLDC1','DIAPH3','CPA4','CALML5' ),\n",
    "     \"normal\" = c('KRT6C','GJB6','SBSN','KRTDAP','KRT6B'))     \n",
    "\n",
    "features <- unlist(unname(gene_markers))\n",
    "\n",
    "palette <- list(\"NON-SCC(p16+)\" = '#F3766E',\n",
    "                \"CIN\" = '#7CAF41',\n",
    "                \"SCC\" = '#19BDC2',\n",
    "                \"NON-SCC\" = '#A780BA')\n",
    "\n",
    " scale =\"row\"\n",
    " color = grDevices::colorRampPalette(c(\"navy\", \"white\", \"red\"))(50)\n",
    " cluster_cols = T\n",
    " cluster_rows = F\n",
    " fontsize_row = 15\n",
    " fontsize_col = 15\n",
    " cutree_cols = 9\n",
    " silent = TRUE\n",
    "\n",
    "\n",
    "col_annot <- data.frame(sample = edger_obj$samples$type)\n",
    "row.names(col_annot) <- colnames(as.data.frame(edgeR::cpm(edger_obj,log=TRUE)))\n",
    "\n",
    "annotation_colors <- list(sample = unlist(palette))\n",
    "\n",
    "\n",
    "mtx <- as.matrix(as.data.frame(edgeR::cpm(edger_obj,log=TRUE))[unique(features),])\n",
    "\n",
    "\n",
    "p <- pheatmap::pheatmap(mtx,scale=scale,color=color,cluster_cols = cluster_cols, annotation_col=col_annot, cluster_rows = cluster_rows,\n",
    "                      fontsize_row = fontsize_row, fontsize_col = fontsize_col, cutree_cols = cutree_cols, silent = silent, annotation_colors = annotation_colors)\n"
   ]
  },
  {
   "cell_type": "code",
   "execution_count": null,
   "id": "b963016e-431c-4d8d-b40d-06baf9e5a039",
   "metadata": {
    "scrolled": true,
    "vscode": {
     "languageId": "r"
    }
   },
   "outputs": [],
   "source": [
    "rownames(mtx)"
   ]
  },
  {
   "cell_type": "code",
   "execution_count": null,
   "id": "7cc59154-bb87-458f-9885-c6d62f7b91ba",
   "metadata": {
    "vscode": {
     "languageId": "r"
    }
   },
   "outputs": [],
   "source": [
    "options(repr.plot.width = 10, repr.plot.height = 10)\n",
    "p"
   ]
  },
  {
   "cell_type": "code",
   "execution_count": null,
   "id": "ee883c84-f945-4073-9655-a358a2cd4e4f",
   "metadata": {
    "vscode": {
     "languageId": "r"
    }
   },
   "outputs": [],
   "source": [
    "options(repr.plot.width = 10, repr.plot.height = 10)\n",
    "\n",
    "pdf(file = \"~/CIN_subcluster_DE.pdf\", height = 10, width = 10)\n",
    "p\n",
    "dev.off()"
   ]
  },
  {
   "cell_type": "code",
   "execution_count": null,
   "id": "c4da971a-76f3-4731-bd96-9c7f2f6d981b",
   "metadata": {
    "vscode": {
     "languageId": "r"
    }
   },
   "outputs": [],
   "source": [
    "features <- c(unlist(unname(gene_markers)), c(\"IL34\", \"CSF1R\"))\n",
    "\n",
    "\n",
    "\n",
    "palette <- list(\"NON-SCC(p16+)\" = '#F3766E',\n",
    "                \"CIN\" = '#7CAF41',\n",
    "                \"SCC\" = '#19BDC2',\n",
    "                \"NON-SCC\" = '#A780BA')\n",
    "\n",
    " scale =\"row\"\n",
    " color = grDevices::colorRampPalette(c(\"navy\", \"white\", \"red\"))(50)\n",
    " cluster_cols = T\n",
    " cluster_rows = F\n",
    " fontsize_row = 15\n",
    " fontsize_col = 15\n",
    " cutree_cols = 9\n",
    " silent = TRUE\n",
    "\n",
    "\n",
    "col_annot <- data.frame(sample = edger_obj$samples$type)\n",
    "row.names(col_annot) <- colnames(as.data.frame(edgeR::cpm(edger_obj,log=TRUE)))\n",
    "\n",
    "annotation_colors <- list(sample = unlist(palette))\n",
    "\n",
    "\n",
    "mtx <- as.matrix(as.data.frame(edgeR::cpm(edger_obj,log=TRUE))[unique(features),])\n",
    "mtx <- rbind(mtx,mtx[\"CSF1R\",]*mtx[\"IL34\",])\n",
    "rownames(mtx) <- c(rownames(mtx)[1:length(rownames(mtx))-1], \"CSF1R-IL34\")\n",
    "\n",
    "\n",
    "p <- pheatmap::pheatmap(mtx,scale=scale,color=color,cluster_cols = cluster_cols, annotation_col=col_annot, cluster_rows = cluster_rows,\n",
    "                      fontsize_row = fontsize_row, fontsize_col = fontsize_col, cutree_cols = cutree_cols, silent = silent, annotation_colors = annotation_colors)\n"
   ]
  },
  {
   "cell_type": "code",
   "execution_count": null,
   "id": "2e3b1c36-b38b-428c-a45c-d48cae3312ac",
   "metadata": {
    "vscode": {
     "languageId": "r"
    }
   },
   "outputs": [],
   "source": [
    "mtx"
   ]
  },
  {
   "cell_type": "code",
   "execution_count": null,
   "id": "dbbdd4f2-18e7-4095-baca-5b7222016e2a",
   "metadata": {
    "vscode": {
     "languageId": "r"
    }
   },
   "outputs": [],
   "source": [
    "options(repr.plot.width = 10, repr.plot.height = 10)\n",
    "\n",
    "pdf(file = \"~/CIN_subcluster_CSF1R.pdf\", height = 10, width = 10)\n",
    "p\n",
    "dev.off()"
   ]
  },
  {
   "cell_type": "markdown",
   "id": "42ce17c0-50d6-4267-8884-6e819f163ccf",
   "metadata": {},
   "source": [
    "## Find DE Genes between Clusters"
   ]
  },
  {
   "cell_type": "code",
   "execution_count": null,
   "id": "500287f1-eaed-48eb-963c-1e1abfa594a2",
   "metadata": {
    "vscode": {
     "languageId": "r"
    }
   },
   "outputs": [],
   "source": [
    "DefaultAssay(int.data) <- \"SCT\"\n",
    "de <- PrepSCTFindMarkers(int.data)\n",
    "Idents(de) <- \"cluster_de\"\n",
    "de <- FindAllMarkers(de, only.pos = T)"
   ]
  },
  {
   "cell_type": "code",
   "execution_count": null,
   "id": "7d0b0e43-adf0-4c63-8797-a708724eb5d1",
   "metadata": {
    "vscode": {
     "languageId": "r"
    }
   },
   "outputs": [],
   "source": [
    "de[de$cluster == \"CIN\",][1:10,]"
   ]
  },
  {
   "cell_type": "code",
   "execution_count": null,
   "id": "e1991403-e469-4a7d-9de6-88a5b7ba37ee",
   "metadata": {
    "vscode": {
     "languageId": "r"
    }
   },
   "outputs": [],
   "source": [
    "de[de$cluster == \"NON-SCC\",][1:10,]"
   ]
  },
  {
   "cell_type": "code",
   "execution_count": null,
   "id": "d20e4e08-a824-4df5-bddd-5cce7ac03bec",
   "metadata": {
    "vscode": {
     "languageId": "r"
    }
   },
   "outputs": [],
   "source": [
    "de[de$cluster == \"SCC\",][1:10,]"
   ]
  },
  {
   "cell_type": "code",
   "execution_count": null,
   "id": "908555b7-7a57-43e5-9df5-52c10914a83e",
   "metadata": {
    "vscode": {
     "languageId": "r"
    }
   },
   "outputs": [],
   "source": [
    "int.data <- AddModuleScore(object =  int.data, features = list(\"cin\" = c('SERPINB13','SERPINB5','CLDN1','TP63','CDKN2A','TNS4','DSC3')), name = \"CIN_genes\", assay = \"SCT\")\n",
    "int.data <- AddModuleScore(object =  int.data, features = list(\"scc\" = c('CASP14','PSORS1C2','DNAH17','SERPINB12','SLC44A5','TCHH','PNLDC1','DIAPH3','CPA4','CALML5' )), name = \"SCC_genes\", assay = \"SCT\")\n",
    "int.data <- AddModuleScore(object =  int.data, features = list(\"normal\" = c('KRT6C','GJB6','SBSN','KRTDAP','KRT6B')), name = \"normal_genes\", assay = \"SCT\")             "
   ]
  },
  {
   "cell_type": "code",
   "execution_count": null,
   "id": "6a1cf096-0612-494a-968b-ccbcf89756e0",
   "metadata": {
    "vscode": {
     "languageId": "r"
    }
   },
   "outputs": [],
   "source": [
    "options(repr.plot.width = 30, repr.plot.height = 8)\n",
    "FeaturePlot(int.data, features = c(\"CIN_genes1\", \"SCC_genes1\", \"normal_genes1\"), ncol = 3)"
   ]
  },
  {
   "cell_type": "code",
   "execution_count": null,
   "id": "44ba1228-717c-44e7-bc89-292c6dcd1a4d",
   "metadata": {
    "vscode": {
     "languageId": "r"
    }
   },
   "outputs": [],
   "source": [
    "options(repr.plot.width = 30, repr.plot.height = 8)\n",
    "VlnPlot(int.data, features = \"CIN_genes1\", group.by = \"integrated_snn_res.0.3\", split.by = \"cluster_de\", assay = \"SCT\")\n",
    "VlnPlot(int.data, features = \"SCC_genes1\", group.by = \"integrated_snn_res.0.3\", split.by = \"cluster_de\", assay = \"SCT\")\n",
    "VlnPlot(int.data, features = \"normal_genes1\", group.by = \"integrated_snn_res.0.3\", split.by = \"cluster_de\", assay = \"SCT\")"
   ]
  },
  {
   "cell_type": "code",
   "execution_count": null,
   "id": "5c8a670e-6aaf-4cb4-9227-7b31a5b466ef",
   "metadata": {
    "vscode": {
     "languageId": "r"
    }
   },
   "outputs": [],
   "source": [
    "colnames(head(int.data))"
   ]
  },
  {
   "cell_type": "code",
   "execution_count": null,
   "id": "9beef95f-ac4b-4f7c-80a9-d5f45deccc83",
   "metadata": {
    "vscode": {
     "languageId": "r"
    }
   },
   "outputs": [],
   "source": [
    "updated.metadata <- readRDS(\"~/final_int_data_list.rds\")"
   ]
  },
  {
   "cell_type": "code",
   "execution_count": null,
   "id": "013ec578-e172-4b1b-86d5-1a0f976cb182",
   "metadata": {
    "vscode": {
     "languageId": "r"
    }
   },
   "outputs": [],
   "source": [
    "updated.metadata <- merge(updated.metadata[[1]], updated.metadata[2:length(updated.metadata)])"
   ]
  },
  {
   "cell_type": "code",
   "execution_count": null,
   "id": "a97aa35f-2569-4ee7-9bef-8f163184bb03",
   "metadata": {
    "vscode": {
     "languageId": "r"
    }
   },
   "outputs": [],
   "source": [
    "options(repr.plot.width = 8, repr.plot.height = 8)\n",
    "p <- DotPlot(int.data, group.by = \"cluster_de\",features = c('t_regulatory1','t_proinflammatory1','t_anti1','m1_signature1','m2_signature1','apc_langerhan1','lr_pair1'), col.min = 0)+ theme(panel.spacing = unit(x = 1, units = \"lines\"),strip.background = element_blank(),strip.text.x = element_text(angle = 90, hjust = 0),axis.text.x = element_text(angle = 90, hjust = 1))\n",
    "p\n"
   ]
  },
  {
   "cell_type": "code",
   "execution_count": null,
   "id": "ca055cd8-8552-47b4-9d74-11b5e47950c3",
   "metadata": {
    "vscode": {
     "languageId": "r"
    }
   },
   "outputs": [],
   "source": [
    "int.data@meta.data[c('t_regulatory1','t_proinflammatory1','t_anti1','m1_signature1','m2_signature1','apc_langerhan1','lr_pair1')] <- updated.metadata@meta.data[c('t_regulatory1','t_proinflammatory1','t_anti1','m1_signature1','m2_signature1','apc_langerhan1','lr_pair1')]"
   ]
  },
  {
   "cell_type": "code",
   "execution_count": null,
   "id": "cceff6a9-0e2b-4d5c-b9a2-7828b8f79b9c",
   "metadata": {
    "vscode": {
     "languageId": "r"
    }
   },
   "outputs": [],
   "source": [
    "data_list[[3]] <- AddModuleScore(object =  data_list[[3]], features = list(\"cin\" = c('SERPINB13','SERPINB5','CLDN1','TP63','CDKN2A','TNS4','DSC3')), name = \"CIN_genes\", assay = \"SCT\", nbin = 5)    \n",
    "data_list[[3]] <- AddModuleScore(object =  data_list[[3]], features = list(\"normal\" = c('KRT6C','GJB6','SBSN','KRTDAP','KRT6B')), name = \"normal_genes\", assay = \"SCT\", nbin = 5)             "
   ]
  },
  {
   "cell_type": "code",
   "execution_count": null,
   "id": "67532c32-7ffa-437e-bd81-de8c149b88a3",
   "metadata": {
    "vscode": {
     "languageId": "r"
    }
   },
   "outputs": [],
   "source": []
  },
  {
   "cell_type": "code",
   "execution_count": null,
   "id": "346359f2-3412-4a6d-aa37-99e97c3cfb40",
   "metadata": {
    "vscode": {
     "languageId": "r"
    }
   },
   "outputs": [],
   "source": []
  },
  {
   "cell_type": "code",
   "execution_count": null,
   "id": "f17ad355-d40c-40d7-8293-c8ff8b2064cb",
   "metadata": {
    "vscode": {
     "languageId": "r"
    }
   },
   "outputs": [],
   "source": []
  },
  {
   "cell_type": "code",
   "execution_count": null,
   "id": "d585997f-eb84-4925-a54f-508a11dd1ef0",
   "metadata": {
    "vscode": {
     "languageId": "r"
    }
   },
   "outputs": [],
   "source": []
  },
  {
   "cell_type": "code",
   "execution_count": null,
   "id": "e13dd83e-1e95-4836-b6be-69fd593e22a5",
   "metadata": {
    "vscode": {
     "languageId": "r"
    }
   },
   "outputs": [],
   "source": [
    "options(repr.plot.width = 8, repr.plot.height = 5)\n",
    "p <- DotPlot(subset(int.data, subset = integrated_snn_res.0.3 == 8), group.by = \"cluster_de\",features = c('t_regulatory1','t_proinflammatory1','t_anti1','m1_signature1','m2_signature1','apc_langerhan1','lr_pair1')#, col.min = 0\n",
    "            )+ theme(panel.spacing = unit(x = 1, units = \"lines\"),strip.background = element_blank(),strip.text.x = element_text(angle = 90, hjust = 0),axis.text.x = element_text(angle = 90, hjust = 1))\n",
    "p\n",
    "ggsave(p, filename = \"~/CIN_MS_dotplots_clust8.pdf\", height = 5, width = 8)"
   ]
  },
  {
   "cell_type": "code",
   "execution_count": null,
   "id": "d707e713-b871-4d8f-b6a0-51db8883b21e",
   "metadata": {
    "vscode": {
     "languageId": "r"
    }
   },
   "outputs": [],
   "source": [
    "combined_sores <- lapply(c('t_regulatory1','t_proinflammatory1','t_anti1','m1_signature1','m2_signature1','apc_langerhan1'), function(x){\n",
    "    ifelse(int.data@meta.data[[x]] & int.data$lr_pair1 > 0, \"pos\", \"neg\")})\n",
    "\n",
    "combined <- do.call(cbind,combined_sores)\n",
    "int.data@meta.data[paste0(c('t_regulatory1','t_proinflammatory1','t_anti1','m1_signature1','m2_signature1','apc_langerhan1'), \"_comb\")] <- combined\n"
   ]
  },
  {
   "cell_type": "code",
   "execution_count": null,
   "id": "311d8f91-2158-4261-8cdc-c0f2b4ed28f2",
   "metadata": {
    "scrolled": true,
    "vscode": {
     "languageId": "r"
    }
   },
   "outputs": [],
   "source": [
    "options(repr.plot.width = 25, repr.plot.height = 10)\n",
    "lapply(paste0(c('t_regulatory1','t_proinflammatory1','t_anti1','m1_signature1','m2_signature1','apc_langerhan1'), \"_comb\"), function(x){\n",
    "    SpatialDimPlot(int.data, group.by = x, pt.size.factor = 2)})\n"
   ]
  },
  {
   "cell_type": "code",
   "execution_count": null,
   "id": "209ecba4-e11c-42e6-a6ea-75125f27578e",
   "metadata": {
    "vscode": {
     "languageId": "r"
    }
   },
   "outputs": [],
   "source": [
    "options(repr.plot.width = 8, repr.plot.height = 5)\n",
    "lapply(paste0(c('t_regulatory1','t_proinflammatory1','t_anti1','m1_signature1','m2_signature1','apc_langerhan1'), \"_comb\"), function(x){\n",
    "    df_long <- data.frame(table(int.data$cluster_de, int.data@meta.data[[x]]))\n",
    "    df_prop <- df_long %>%\n",
    "      group_by(Var1) %>%\n",
    "      mutate(prop = Freq / sum(Freq))\n",
    "\n",
    "    ggplot(df_prop, aes(x = Var1, y = prop, fill = Var2)) +\n",
    "      geom_bar(stat = \"identity\") +\n",
    "      scale_y_continuous(labels = scales::percent_format()) +\n",
    "      labs(x = \"Group\", y = \"Proportion\", fill = \"Status\") +\n",
    "      theme_minimal() +\n",
    "      theme(axis.text.x = element_text(angle = 45, hjust = 1))+ggtitle(x)\n",
    "\n",
    "    })"
   ]
  },
  {
   "cell_type": "code",
   "execution_count": null,
   "id": "ee7b3955-4dc9-4854-9572-02f409c3e09c",
   "metadata": {
    "vscode": {
     "languageId": "r"
    }
   },
   "outputs": [],
   "source": []
  },
  {
   "cell_type": "markdown",
   "id": "579d7881-46e7-4b8c-b036-dca60c3d0235",
   "metadata": {},
   "source": [
    "## Look at IL34 in Tumour Subcluster"
   ]
  },
  {
   "cell_type": "code",
   "execution_count": null,
   "id": "3caad141-f070-4aed-a3f5-fec615f92ccd",
   "metadata": {
    "vscode": {
     "languageId": "r"
    }
   },
   "outputs": [],
   "source": [
    "cluster8 <- subset(int.data , subset = integrated_snn_res.0.3 == 8)"
   ]
  },
  {
   "cell_type": "code",
   "execution_count": null,
   "id": "7eb245f0-1648-4700-821b-0a560bfc38f6",
   "metadata": {
    "vscode": {
     "languageId": "r"
    }
   },
   "outputs": [],
   "source": [
    "cluster8$ILpos <- ifelse( cluster8$IL34_CSF1R > 0, \"IL34-CSF1R +\", \"IL34-CSF1R -\")"
   ]
  },
  {
   "cell_type": "code",
   "execution_count": null,
   "id": "0d63c540-5ae0-465e-a859-21e2bb317ef0",
   "metadata": {
    "vscode": {
     "languageId": "r"
    }
   },
   "outputs": [],
   "source": [
    "options(repr.plot.width = 10, repr.plot.height = 5)\n",
    "p <- VlnPlot(cluster8, features = \"lr_pair1\", group.by = \"cluster_annotations\")\n",
    "\n",
    "p\n"
   ]
  },
  {
   "cell_type": "code",
   "execution_count": null,
   "id": "d5c7b942-251c-4023-a27c-21e3862452c8",
   "metadata": {
    "scrolled": true,
    "vscode": {
     "languageId": "r"
    }
   },
   "outputs": [],
   "source": [
    "options(repr.plot.width = 20, repr.plot.height = 15)\n",
    "\n",
    "p <- SpatialDimPlot(cluster8, group.by = \"ILpos\", crop = F, pt.size.factor = 2, ncol = 3, cols = list(\"IL34-CSF1R +\" = \"red\", \"IL34-CSF1R -\" = \"blue\"))\n",
    "p\n",
    "\n",
    "ggsave(p, filename = \"~/CIN_subcluster_il34pos_spatial.pdf\", height = 15, width = 20)"
   ]
  },
  {
   "cell_type": "code",
   "execution_count": null,
   "id": "a7aa7f72-4f50-4835-a558-48a82279030f",
   "metadata": {
    "vscode": {
     "languageId": "r"
    }
   },
   "outputs": [],
   "source": [
    "options(repr.plot.width = 10, repr.plot.height = 8)\n",
    "DimPlot(int.data, group.by = \"cluster_de\")"
   ]
  },
  {
   "cell_type": "markdown",
   "id": "7ca791e2-52aa-4015-96b0-9ba9a064a3b9",
   "metadata": {
    "jp-MarkdownHeadingCollapsed": true
   },
   "source": [
    "## Niche Analysis"
   ]
  },
  {
   "cell_type": "code",
   "execution_count": null,
   "id": "13901582-6903-4f84-b557-ef59a5f03735",
   "metadata": {
    "vscode": {
     "languageId": "r"
    }
   },
   "outputs": [],
   "source": [
    "source(\"https://raw.githubusercontent.com/agc888/Helper-Scripts-for-Bioinformatics/refs/heads/main/R%20Scripts/MultiSampleNicheAnalysis_Seurat\")"
   ]
  },
  {
   "cell_type": "code",
   "execution_count": null,
   "id": "cb8b2080-1b80-4305-8d7b-a81ed8306f86",
   "metadata": {
    "scrolled": true,
    "vscode": {
     "languageId": "r"
    }
   },
   "outputs": [],
   "source": [
    "combined.niche <- BuildNicheAssay.using_all_fovs(int.data, group.by = \"integrated_snn_res.0.3\", niches.k = 8, platform = \"Visium\",neighbors.k = 6)"
   ]
  },
  {
   "cell_type": "code",
   "execution_count": null,
   "id": "38241d99-bc90-4c8a-8a5f-d67b204b78fe",
   "metadata": {
    "vscode": {
     "languageId": "r"
    }
   },
   "outputs": [],
   "source": [
    "niche_palette <- RColorBrewer::brewer.pal(name = \"Paired\", n = length(unique(combined.niche$niches)))\n",
    "names(niche_palette) <- unique(combined.niche$niches)"
   ]
  },
  {
   "cell_type": "code",
   "execution_count": null,
   "id": "e0660db5-5b9b-48b2-b79c-c38e9eb721bd",
   "metadata": {
    "vscode": {
     "languageId": "r"
    }
   },
   "outputs": [],
   "source": [
    "options(repr.plot.width = 10, repr.plot.height = 5)\n",
    "DimPlot(combined.niche, group.by = \"cluster_de\")|DimPlot(combined.niche, group.by = \"niches\", cols = niche_palette)"
   ]
  },
  {
   "cell_type": "code",
   "execution_count": null,
   "id": "de418aec-ff14-48bd-ae20-48e682c2ea7d",
   "metadata": {
    "vscode": {
     "languageId": "r"
    }
   },
   "outputs": [],
   "source": [
    "#sub <- subset(combined.niche, subset = cluster_de %in% c(\"CIN\", \"NON-SCC\", \"SCC\", \"NON-SCC (p16+)\"))\n",
    "sub <- subset(combined.niche, subset = niches %in% c(\"4\", \"7\", \"8\"))"
   ]
  },
  {
   "cell_type": "code",
   "execution_count": null,
   "id": "442d0dec-d069-4d5f-b104-82b062b84ec1",
   "metadata": {
    "vscode": {
     "languageId": "r"
    }
   },
   "outputs": [],
   "source": [
    "options(repr.plot.width = 25, repr.plot.height = 8)\n",
    "(SpatialDimPlot(combined.niche, group.by = \"niches\", ncol = 7, cols = niche_palette)& NoLegend())/\n",
    "(SpatialDimPlot(sub, group.by = \"niches\", ncol = 7, crop = F, pt.size.factor = 2 ,cols = niche_palette)& NoLegend())"
   ]
  },
  {
   "cell_type": "code",
   "execution_count": null,
   "id": "b3db1636-0e9e-4b93-955a-dec208e7de0e",
   "metadata": {
    "vscode": {
     "languageId": "r"
    }
   },
   "outputs": [],
   "source": [
    "options(repr.plot.width = 5, repr.plot.height = 5)\n",
    "df <- data.frame(table(combined.niche$cluster_de, combined.niche$niches))\n",
    "df$Var1 <- factor(df$Var1, levels = unique(df$Var1))  # Ensure correct order\n",
    "df$Var2 <- factor(df$Var2)  # Treat as categorical\n",
    "ggplot(df, aes(x = Var2, y = Var1, fill = Freq)) +\n",
    "  geom_tile() +\n",
    "  scale_fill_viridis_c(option = \"magma\", direction = -1) +  # Use Viridis colors\n",
    "  theme_minimal() +\n",
    "  labs(x = \"Category (Var2)\", y = \"Cell Type (Var1)\", fill = \"Frequency\") +\n",
    "  theme(axis.text.x = element_text(angle = 45, hjust = 1))"
   ]
  },
  {
   "cell_type": "code",
   "execution_count": null,
   "id": "4d5bffa8-f6b0-42cc-8453-36ba9734ca3e",
   "metadata": {
    "vscode": {
     "languageId": "r"
    }
   },
   "outputs": [],
   "source": [
    "library(dplyr)\n",
    "library(pheatmap)\n",
    "\n",
    "# Convert to matrix format for pheatmap\n",
    "heatmap_matrix <- df %>%\n",
    "  select(Var1, Var2, Freq) %>%\n",
    "  tidyr::spread(key = Var2, value = Freq)  # Wide format\n",
    "\n",
    "# Convert Var1 to row names and remove it from columns\n",
    "rownames(heatmap_matrix) <- heatmap_matrix$Var1\n",
    "heatmap_matrix <- heatmap_matrix[, -1]  # Drop Var1 column\n",
    "\n",
    "# Convert to matrix\n",
    "heatmap_matrix <- as.matrix(heatmap_matrix)\n",
    "p <- pheatmap(heatmap_matrix,\n",
    "         #color = viridis::viridis(100, option = \"magma\"),\n",
    "         cluster_rows = TRUE,    # Cluster similar rows (optional)\n",
    "         cluster_cols = TRUE,   # Keep Var2 in order\n",
    "         scale = \"column\",         # Already scaled\n",
    "         border_color = NA,      # Remove grid lines\n",
    "         fontsize_row = 10,\n",
    "         fontsize_col = 10)\n",
    "\n",
    "p"
   ]
  },
  {
   "cell_type": "markdown",
   "id": "20a14a70-f62d-496e-b8ed-778fb644e745",
   "metadata": {},
   "source": [
    "## Trajectory"
   ]
  },
  {
   "cell_type": "code",
   "execution_count": null,
   "id": "038033c5-b092-473f-af8c-475349099c07",
   "metadata": {
    "vscode": {
     "languageId": "r"
    }
   },
   "outputs": [],
   "source": [
    "colnames(head(int.data))"
   ]
  },
  {
   "cell_type": "code",
   "execution_count": null,
   "id": "28aff739-9c07-4357-842b-d505449964f3",
   "metadata": {
    "vscode": {
     "languageId": "r"
    }
   },
   "outputs": [],
   "source": [
    "library(monocle3)\n",
    "seurat_to_cds_monocle3 <- function(seurat_obj, assay=\"Spatial\") {\n",
    "  expression_matrix <- Seurat::GetAssayData(seurat_obj, slot = \"count\", assay=assay)  # or use \"data\" for normalized counts\n",
    "  cell_metadata <- seurat_obj@meta.data\n",
    "  cell_metadata$cells <- rownames(seurat_obj@meta.data)\n",
    "  gene_metadata <- data.frame(\n",
    "    gene_short_name = rownames(expression_matrix),\n",
    "    row.names = rownames(expression_matrix)\n",
    "  )\n",
    "  cds <- monocle3::new_cell_data_set(\n",
    "    expression_data = expression_matrix,\n",
    "    cell_metadata = cell_metadata,\n",
    "    gene_metadata = gene_metadata\n",
    "  )\n",
    "  return(cds)\n",
    "}\n"
   ]
  },
  {
   "cell_type": "code",
   "execution_count": null,
   "id": "ff6f5050-2745-4346-aa8d-6bf472e5e65c",
   "metadata": {
    "vscode": {
     "languageId": "r"
    }
   },
   "outputs": [],
   "source": [
    "sub <- subset(int.data, subset = integrated_snn_res.0.3 == 8)"
   ]
  },
  {
   "cell_type": "code",
   "execution_count": null,
   "id": "4837eba9-6b07-4339-91eb-63716120cae7",
   "metadata": {
    "vscode": {
     "languageId": "r"
    }
   },
   "outputs": [],
   "source": [
    "xen <- seurat_to_cds_monocle3(int.data, assay=\"SCT\")\n",
    "xen <- preprocess_cds(xen, method = \"PCA\", num_dim = 30, norm_method = \"none\")\n",
    "xen <- align_cds(xen, alignment_group = \"sample\")\n",
    "xen <- reduce_dimension(xen)\n",
    "xen <- cluster_cells(xen, reduction_method = \"UMAP\")"
   ]
  },
  {
   "cell_type": "code",
   "execution_count": null,
   "id": "e11a412d-890f-4faf-901b-b46ff28f5513",
   "metadata": {
    "vscode": {
     "languageId": "r"
    }
   },
   "outputs": [],
   "source": [
    "options(repr.plot.width = 30, repr.plot.height = 8)\n",
    "plot_cells(xen, color_cells_by = \"partition\")|plot_cells(xen, color_cells_by = \"integrated_snn_res.0.3\")|plot_cells(xen, color_cells_by = \"cluster_de\", group_label_size = 3)\n",
    "DimPlot(int.data, group.by = \"sample\")|DimPlot(int.data, group.by = \"integrated_snn_res.0.3\")|DimPlot(int.data, group.by = \"cluster_de\")"
   ]
  },
  {
   "cell_type": "code",
   "execution_count": null,
   "id": "178bb9fd-be15-45db-b30e-89e25ee8127d",
   "metadata": {
    "vscode": {
     "languageId": "r"
    }
   },
   "outputs": [],
   "source": [
    "xen <- learn_graph(xen)"
   ]
  },
  {
   "cell_type": "code",
   "execution_count": null,
   "id": "3815e8f8-2b4c-40d0-bb51-7e3a3fa7946f",
   "metadata": {
    "vscode": {
     "languageId": "r"
    }
   },
   "outputs": [],
   "source": [
    "options(repr.plot.width = 10, repr.plot.height = 10)\n",
    "plot_cells(xen,\n",
    "           color_cells_by = \"cluster_de\",\n",
    "           label_groups_by_cluster=F,\n",
    "           label_leaves=TRUE,\n",
    "           label_branch_points=T,\n",
    "           label_principal_points = T, \n",
    "           graph_label_size = 5,\n",
    "           group_label_size = 1, cell_size = 1)"
   ]
  },
  {
   "cell_type": "code",
   "execution_count": null,
   "id": "5a6e6439-b0f4-4f83-bf97-e84b73db586c",
   "metadata": {
    "vscode": {
     "languageId": "r"
    }
   },
   "outputs": [],
   "source": [
    "xen <- monocle3::order_cells(xen, reduction_method = \"UMAP\", root_pr_nodes=\"Y_146\")"
   ]
  },
  {
   "cell_type": "code",
   "execution_count": null,
   "id": "7d3840b9-2506-462c-9797-7a54f90284c8",
   "metadata": {
    "vscode": {
     "languageId": "r"
    }
   },
   "outputs": [],
   "source": [
    "p <-plot_cells(xen,\n",
    "           color_cells_by = \"pseudotime\",\n",
    "           label_groups_by_cluster=F,\n",
    "           label_leaves=FALSE,\n",
    "           label_branch_points=F,\n",
    "           label_principal_points = F, \n",
    "           graph_label_size = 5,\n",
    "           group_label_size = 5, cell_size = 1)+  scale_color_gradientn(colours =  rev(viridis::plasma(10)))\n",
    "\n",
    "\n",
    "p1 <- plot_cells(xen,\n",
    "           color_cells_by = \"cluster_de\",\n",
    "           label_groups_by_cluster=F,\n",
    "           label_leaves=FALSE,\n",
    "           label_branch_points=F,\n",
    "           label_principal_points = F, \n",
    "           graph_label_size = 5,\n",
    "           group_label_size = 5, cell_size = 1)\n",
    "\n",
    "options(repr.plot.width = 15, repr.plot.height = 8)\n",
    "p|p1"
   ]
  },
  {
   "cell_type": "code",
   "execution_count": null,
   "id": "29c7078b-5ed8-4dfe-bae8-8364aa7a0e05",
   "metadata": {
    "vscode": {
     "languageId": "r"
    }
   },
   "outputs": [],
   "source": [
    "ggsave((p|p1), filename = \"~/CIN_UMAP_monocle.pdf\", height = 8, width = 15)"
   ]
  },
  {
   "cell_type": "code",
   "execution_count": null,
   "id": "95c9b4a6-a58d-4621-be5d-dd59ff99ccb1",
   "metadata": {
    "vscode": {
     "languageId": "r"
    }
   },
   "outputs": [],
   "source": [
    "#ciliated_cds_pr_test_res <- graph_test(xen, neighbor_graph=\"principal_graph\", cores=4)\n",
    "#pr_deg_ids <- row.names(subset(ciliated_cds_pr_test_res, q_value < 0.05))"
   ]
  },
  {
   "cell_type": "code",
   "execution_count": null,
   "id": "80dc6490-2e31-4e9e-9fbe-aa88a711a4fb",
   "metadata": {
    "scrolled": true,
    "vscode": {
     "languageId": "r"
    }
   },
   "outputs": [],
   "source": [
    "ciliated_cds_pr_test_res[order(-ciliated_cds_pr_test_res$morans_I),]"
   ]
  },
  {
   "cell_type": "code",
   "execution_count": null,
   "id": "df920fcc-b88f-4a76-956b-e919a0b4f957",
   "metadata": {
    "vscode": {
     "languageId": "r"
    }
   },
   "outputs": [],
   "source": [
    "# Extract pseudotime values\n",
    "pseudotime_values <- xen@principal_graph_aux$UMAP$pseudotime\n",
    "\n",
    "# Match rownames from xenium_annotated to the names in pseudotime_values\n",
    "matching_indices <- match(rownames(int.data@meta.data), names(pseudotime_values))\n",
    "\n",
    "# Create a vector of NAs of the same length as xenium_annotated metadata\n",
    "pseudotime_filled <- rep(NA, nrow(int.data@meta.data))\n",
    "\n",
    "# Assign matched values\n",
    "pseudotime_filled[!is.na(matching_indices)] <- pseudotime_values[matching_indices[!is.na(matching_indices)]]\n",
    "\n",
    "# Store in Seurat metadata\n",
    "int.data$pseudotime <- pseudotime_filled\n",
    "\n",
    "rows_with_inf <- apply(data.frame(int.data$pseudotime), 1, function(x) any(is.infinite(x)))\n",
    "\n",
    "int.data$pseudotime[rows_with_inf] <- NA          \n"
   ]
  },
  {
   "cell_type": "code",
   "execution_count": null,
   "id": "da51490f-4838-4122-8321-91e6c086fb56",
   "metadata": {
    "vscode": {
     "languageId": "r"
    }
   },
   "outputs": [],
   "source": [
    "options(repr.plot.width = 18, repr.plot.height = 8)\n",
    "\n",
    "p <- FeaturePlot(int.data, features = \"pseudotime\")+  scale_color_viridis_c(option = \"plasma\")|DimPlot(int.data, group.by = \"cluster_de\")\n",
    "p\n",
    "\n",
    "ggsave(p , filename = \"~/CIN_UMAP_pseudotime_cluster.pdf\", height = 8, width = 18)"
   ]
  },
  {
   "cell_type": "code",
   "execution_count": null,
   "id": "491a3a0e-16f7-41d8-b5c2-243b285105a2",
   "metadata": {
    "vscode": {
     "languageId": "r"
    }
   },
   "outputs": [],
   "source": [
    "sub <- subset(int.data, subset = integrated_snn_res.0.3 == 8)"
   ]
  },
  {
   "cell_type": "code",
   "execution_count": null,
   "id": "9a36b349-fb9b-4bbd-a18a-167bb6ea1ef5",
   "metadata": {
    "vscode": {
     "languageId": "r"
    }
   },
   "outputs": [],
   "source": [
    "options(repr.plot.width = 8, repr.plot.height = 8)\n",
    "\n",
    "p <- FeaturePlot(sub, features = \"pseudotime\")+  scale_color_viridis_c(option = \"plasma\")\n",
    "p\n",
    "\n",
    "ggsave(p , filename = \"~/CIN_UMAP_pseudotime_cluster8.pdf\", height = 6, width = 6)"
   ]
  },
  {
   "cell_type": "code",
   "execution_count": null,
   "id": "0be5252a-6fcf-4b80-93a3-b5b1d4a55d9a",
   "metadata": {
    "vscode": {
     "languageId": "r"
    }
   },
   "outputs": [],
   "source": []
  },
  {
   "cell_type": "code",
   "execution_count": null,
   "id": "7c4379f9-c754-43e9-aae4-b49faf582123",
   "metadata": {
    "vscode": {
     "languageId": "r"
    }
   },
   "outputs": [],
   "source": [
    "int.data$pseudotime_adj <- ifelse(is.na(int.data$pseudotime), 0, int.data$pseudotime+1)"
   ]
  },
  {
   "cell_type": "code",
   "execution_count": null,
   "id": "857eb29a-9b1b-4764-ba84-887f78f56180",
   "metadata": {
    "vscode": {
     "languageId": "r"
    }
   },
   "outputs": [],
   "source": [
    "int.data$pseudotime_bins<- ifelse(int.data$pseudotime_adj == 0, \"NA\", \n",
    "       ifelse(int.data$pseudotime_adj >0 & int.data$pseudotime_adj <= 4, \"0-3\", \n",
    "            ifelse(int.data$pseudotime_adj >4 & int.data$pseudotime_adj <= 7, \"4-6\", \n",
    "              ifelse(int.data$pseudotime_adj >7 & int.data$pseudotime_adj <= 11, \"7-10\",\n",
    "              ifelse(int.data$pseudotime_adj >11 &int.data$pseudotime_adj <= 21, \"11-20\",\n",
    "                                   ifelse(int.data$pseudotime_adj >21 &int.data$pseudotime_adj <= 31, \"21-30\",\n",
    "                                                                             \"30+\"))))))"
   ]
  },
  {
   "cell_type": "code",
   "execution_count": null,
   "id": "715fe1d7-4c3d-4068-9bef-5467ed7c2d42",
   "metadata": {
    "vscode": {
     "languageId": "r"
    }
   },
   "outputs": [],
   "source": [
    "options(repr.plot.width = 30, repr.plot.height = 10)\n",
    "SpatialDimPlot(int.data, group.by = \"pseudotime_bins\")"
   ]
  },
  {
   "cell_type": "code",
   "execution_count": null,
   "id": "42dcab4f-db87-4d00-bebe-7d2fa1a43f89",
   "metadata": {
    "vscode": {
     "languageId": "r"
    }
   },
   "outputs": [],
   "source": []
  },
  {
   "cell_type": "code",
   "execution_count": null,
   "id": "60946c59-1f7a-4167-985c-bd3d3de29f63",
   "metadata": {
    "vscode": {
     "languageId": "r"
    }
   },
   "outputs": [],
   "source": [
    "ciliated_cds_pr_test_res[order(-ciliated_cds_pr_test_res$morans_I),][\"VIM\",]\n",
    "ciliated_cds_pr_test_res[order(-ciliated_cds_pr_test_res$morans_I),][\"IL34\",]\n",
    "ciliated_cds_pr_test_res[order(-ciliated_cds_pr_test_res$morans_I),][\"CSF1R\",]"
   ]
  },
  {
   "cell_type": "code",
   "execution_count": null,
   "id": "581a5185-6dca-47a0-a265-2631abbd4509",
   "metadata": {
    "vscode": {
     "languageId": "r"
    }
   },
   "outputs": [],
   "source": [
    "options(repr.plot.width = 30, repr.plot.height = 10)\n",
    "p <- SpatialFeaturePlot(int.data, features = \"pseudotime\", pt.size.factor = 2) &  scale_fill_gradientn(colours =  rev(viridis::plasma(10)))\n",
    "p\n",
    "ggsave(p, filename = \"~/CIN_spatial_pseudotime.pdf\", height = 10, width = 30)"
   ]
  },
  {
   "cell_type": "code",
   "execution_count": null,
   "id": "6fbf853c-d324-47a1-8e33-0082f1777e15",
   "metadata": {
    "vscode": {
     "languageId": "r"
    }
   },
   "outputs": [],
   "source": [
    "options(repr.plot.width = 8, repr.plot.height = 8)\n",
    "\n",
    "p <- FeaturePlot(int.data, features = \"pseudotime\")+  scale_color_viridis_c(option = \"plasma\")\n",
    "ggsave(p, filename = \"~/CIN_UMAP_pseudotime.pdf\", height = 8, width = 8)"
   ]
  },
  {
   "cell_type": "code",
   "execution_count": null,
   "id": "75e581ca-6903-43a7-afce-128b19b9bed0",
   "metadata": {
    "vscode": {
     "languageId": "r"
    }
   },
   "outputs": [],
   "source": [
    "options(repr.plot.width = 8, repr.plot.height = 8)\n",
    "\n",
    "p <- plot_cells(xen,\n",
    "           color_cells_by = \"pseudotime\",\n",
    "           label_groups_by_cluster=F,\n",
    "           label_leaves=FALSE,\n",
    "           label_branch_points=F,\n",
    "           label_principal_points = F, \n",
    "           graph_label_size = 5,\n",
    "           group_label_size = 5, cell_size = 1)\n",
    "p\n",
    "ggsave(p, filename = \"~/CIN_UMAP_pseudotime_monocle.pdf\", height = 8, width = 8)"
   ]
  },
  {
   "cell_type": "code",
   "execution_count": null,
   "id": "55c04b4a-0c4b-4546-9a68-fab4615e5dd5",
   "metadata": {
    "vscode": {
     "languageId": "r"
    }
   },
   "outputs": [],
   "source": [
    "RidgePlot(int.data, features = \"pseudotime\", group.by = \"cluster_de\")"
   ]
  },
  {
   "cell_type": "code",
   "execution_count": null,
   "id": "8038c038-796d-40dd-bae6-f3cbca48d9c2",
   "metadata": {
    "vscode": {
     "languageId": "r"
    }
   },
   "outputs": [],
   "source": [
    "RidgePlot(int.data, features = \"IL34_CSF1R\", group.by = \"cluster_de\")"
   ]
  },
  {
   "cell_type": "code",
   "execution_count": null,
   "id": "17e4bfaa-7ffa-4c18-95f5-c464a733f7ad",
   "metadata": {
    "scrolled": true,
    "vscode": {
     "languageId": "r"
    }
   },
   "outputs": [],
   "source": [
    "AFD_genes <- c(\"IL34\", \"CSF1R\", \"CDKN2A\", \"IGFBP5\")\n",
    "               #\"TP63\",\"Epithelial_MS\", \"Cancer_MS\"  ,\"TCells_MS\",\"TReg_MS\",  \"TPro_MS\",\"TAnti_MS\",\"Macro\",  \"Macro1_MS\",\n",
    "               #\"Macro2_MS\", \"Langherhans_MS\", \"APC_Macro_MS\", \"IL34_CSF1R\")\n",
    "\n",
    "\n",
    "assay(xen[rowData(xen)$gene_short_name %in% AFD_genes,], \"counts\")\n",
    "\n",
    "\n",
    "#AFD_lineage_cds <- order_cells(AFD_lineage_cds)"
   ]
  },
  {
   "cell_type": "code",
   "execution_count": null,
   "id": "5b1f5dae-8c67-4ab0-b0fa-b9a61abf08e9",
   "metadata": {
    "scrolled": true,
    "vscode": {
     "languageId": "r"
    }
   },
   "outputs": [],
   "source": [
    "t(int.data@meta.data[metadata_genes])"
   ]
  },
  {
   "cell_type": "code",
   "execution_count": null,
   "id": "9edee7d5-1dc1-445f-9832-c5b92e99f219",
   "metadata": {
    "scrolled": true,
    "vscode": {
     "languageId": "r"
    }
   },
   "outputs": [],
   "source": [
    "traj <- xen\n",
    "# Get the current counts matrix\n",
    "#mat <- assay(traj, \"counts\")\n",
    "\n",
    "metadata_genes <- c('t_regulatory1','t_proinflammatory1','t_anti1','m1_signature1','m2_signature1','apc_langerhan1','lr_pair1')\n",
    "\n",
    "AFD_genes <- c(\"IGFBP5\",\"CSF1R\", \"CDKN2A\", \"IL34\")\n",
    "#genes <- AFD_genes\n",
    "genes <- c(metadata_genes, AFD_genes)\n",
    "\n",
    "\n",
    "# Create a new row for IL34_CSF1R\n",
    "#new_gene_x <- lapply(metadata_genes, function(x) {matrix(colData(traj)[[x]], nrow = 1)})\n",
    "new_gene_y <- t(int.data@meta.data[metadata_genes])\n",
    "#new_gene_x <- traj@principal_graph_aux$UMAP$pseudotime\n",
    "#new_gene_x <- assay(traj, \"counts\")[\"IL34\",]*assay(traj, \"counts\")[\"CDKN2A\",]\n",
    "\n",
    "\n",
    "new_gene_expr <- rbind(new_gene_y, assay(traj[rowData(traj)$gene_short_name %in% AFD_genes,], \"counts\"))\n",
    "\n",
    "#new_gene_expr <- assay(traj[rowData(traj)$gene_short_name %in% AFD_genes,], \"counts\")\n",
    "\n",
    "rownames(new_gene_expr) <- genes\n",
    "colnames(new_gene_expr) <- rownames(colData(traj))\n",
    "\n",
    "cds <- new_cell_data_set(Matrix(new_gene_expr, sparse = TRUE),\n",
    "                         cell_metadata = colData(traj),\n",
    "                         gene_metadata = NULL)\n",
    "\n",
    "cds@principal_graph <- traj@principal_graph\n",
    "cds@principal_graph_aux <- traj@principal_graph_aux\n",
    "cds@reduce_dim_aux <- traj@reduce_dim_aux\n",
    "cds@clusters <- traj@clusters\n",
    "rowData(cds)$gene_short_name <- genes"
   ]
  },
  {
   "cell_type": "code",
   "execution_count": null,
   "id": "eb34f934-4dc1-40a4-aa88-50aafe8d9640",
   "metadata": {
    "scrolled": true,
    "vscode": {
     "languageId": "r"
    }
   },
   "outputs": [],
   "source": [
    "plots <- lapply(genes, function(x){to_plot <- cds[rowData(cds)$gene_short_name == x,]\n",
    "                                  plot_genes_in_pseudotime(to_plot,\n",
    "                                 color_cells_by=\"cluster_de\",\n",
    "                                     min_expr=0.5)\n",
    "                                  })\n"
   ]
  },
  {
   "cell_type": "code",
   "execution_count": null,
   "id": "977a90c3-13de-404e-b6fa-42acebe79369",
   "metadata": {
    "vscode": {
     "languageId": "r"
    }
   },
   "outputs": [],
   "source": [
    "options(repr.plot.width = 20, repr.plot.height = 20)\n",
    "wrap_plots(plots, ncol = 2)"
   ]
  },
  {
   "cell_type": "code",
   "execution_count": null,
   "id": "fb7fdc39-9a2c-4fc7-8823-7b56b1257b9c",
   "metadata": {
    "vscode": {
     "languageId": "r"
    }
   },
   "outputs": [],
   "source": []
  },
  {
   "cell_type": "code",
   "execution_count": null,
   "id": "3aea6e2e-1770-4626-9055-5d17bfcaf845",
   "metadata": {
    "vscode": {
     "languageId": "r"
    }
   },
   "outputs": [],
   "source": []
  },
  {
   "cell_type": "code",
   "execution_count": null,
   "id": "602c4145-efc4-4e7d-820e-fed887b8ab71",
   "metadata": {
    "vscode": {
     "languageId": "r"
    }
   },
   "outputs": [],
   "source": []
  },
  {
   "cell_type": "code",
   "execution_count": null,
   "id": "5d362c7a-acb6-4d79-b373-5caacf0a5542",
   "metadata": {
    "vscode": {
     "languageId": "r"
    }
   },
   "outputs": [],
   "source": [
    "options(repr.plot.width = 20, repr.plot.height = 10)\n",
    "\n",
    "p <- wrap_plots(plots[c(3,2,1,4)], ncol = 2)\n",
    "p\n"
   ]
  },
  {
   "cell_type": "code",
   "execution_count": null,
   "id": "4a46919e-f71a-457c-803a-c222118b4835",
   "metadata": {
    "vscode": {
     "languageId": "r"
    }
   },
   "outputs": [],
   "source": []
  },
  {
   "cell_type": "markdown",
   "id": "57e43e17-6689-4bce-9c59-5c5d108d3cb4",
   "metadata": {},
   "source": [
    "## Trajectory Sample3"
   ]
  },
  {
   "cell_type": "code",
   "execution_count": null,
   "id": "84aca22a-9543-48bb-be31-23227942417e",
   "metadata": {
    "vscode": {
     "languageId": "r"
    }
   },
   "outputs": [],
   "source": [
    "xen <- seurat_to_cds_monocle3(data_list[[3]], assay=\"SCT\")\n",
    "xen <- preprocess_cds(xen, method = \"PCA\", num_dim = 30, norm_method = \"none\")\n",
    "xen <- align_cds(xen)\n",
    "xen <- reduce_dimension(xen)\n",
    "xen <- cluster_cells(xen, reduction_method = \"UMAP\")"
   ]
  },
  {
   "cell_type": "code",
   "execution_count": null,
   "id": "71300a9d-11d0-40cd-98c8-fc6757c78510",
   "metadata": {
    "vscode": {
     "languageId": "r"
    }
   },
   "outputs": [],
   "source": [
    "options(repr.plot.width = 30, repr.plot.height = 8)\n",
    "plot_cells(xen, color_cells_by = \"partition\")|plot_cells(xen, color_cells_by = \"integrated_snn_res.0.3\")|plot_cells(xen, color_cells_by = \"cluster_de\", group_label_size = 3)\n",
    "DimPlot(int.data, group.by = \"sample\")|DimPlot(int.data, group.by = \"integrated_snn_res.0.3\")|DimPlot(int.data, group.by = \"cluster_de\")"
   ]
  },
  {
   "cell_type": "code",
   "execution_count": null,
   "id": "2fce3b80-d513-4af4-a647-31948003f5c2",
   "metadata": {
    "vscode": {
     "languageId": "r"
    }
   },
   "outputs": [],
   "source": [
    "xen <- learn_graph(xen)"
   ]
  },
  {
   "cell_type": "code",
   "execution_count": null,
   "id": "aa3a64c5-59ed-42af-9cd8-fade61583b73",
   "metadata": {
    "vscode": {
     "languageId": "r"
    }
   },
   "outputs": [],
   "source": [
    "options(repr.plot.width = 10, repr.plot.height = 10)\n",
    "plot_cells(xen,\n",
    "           color_cells_by = \"cluster_de\",\n",
    "           label_groups_by_cluster=F,\n",
    "           label_leaves=TRUE,\n",
    "           label_branch_points=T,\n",
    "           label_principal_points = T, \n",
    "           graph_label_size = 5,\n",
    "           group_label_size = 1, cell_size = 1)"
   ]
  },
  {
   "cell_type": "code",
   "execution_count": null,
   "id": "3c963147-2407-4e3f-876c-5c5685113b7b",
   "metadata": {
    "vscode": {
     "languageId": "r"
    }
   },
   "outputs": [],
   "source": [
    "xen <- monocle3::order_cells(xen, reduction_method = \"UMAP\", root_pr_nodes=\"Y_95\")"
   ]
  },
  {
   "cell_type": "code",
   "execution_count": null,
   "id": "6a10825e-7f16-410b-9807-4b5588e0254d",
   "metadata": {
    "vscode": {
     "languageId": "r"
    }
   },
   "outputs": [],
   "source": [
    "options(repr.plot.width = 10, repr.plot.height = 10)\n",
    "plot_cells(xen,\n",
    "           color_cells_by = \"pseudotime\",\n",
    "           label_groups_by_cluster=F,\n",
    "           label_leaves=FALSE,\n",
    "           label_branch_points=F,\n",
    "           label_principal_points = F, \n",
    "           graph_label_size = 5,\n",
    "           group_label_size = 5, cell_size = 1)\n"
   ]
  },
  {
   "cell_type": "code",
   "execution_count": null,
   "id": "896814c3-827f-4591-b834-89f8850b1ce3",
   "metadata": {
    "vscode": {
     "languageId": "r"
    }
   },
   "outputs": [],
   "source": [
    "# Extract pseudotime values\n",
    "pseudotime_values <- xen@principal_graph_aux$UMAP$pseudotime\n",
    "\n",
    "# Match rownames from xenium_annotated to the names in pseudotime_values\n",
    "matching_indices <- match(rownames(data_list[[3]]@meta.data), names(pseudotime_values))\n",
    "\n",
    "# Create a vector of NAs of the same length as xenium_annotated metadata\n",
    "pseudotime_filled <- rep(NA, nrow(data_list[[3]]@meta.data))\n",
    "\n",
    "# Assign matched values\n",
    "pseudotime_filled[!is.na(matching_indices)] <- pseudotime_values[matching_indices[!is.na(matching_indices)]]\n",
    "\n",
    "# Store in Seurat metadata\n",
    "data_list[[3]]$pseudotime <- pseudotime_filled\n",
    "\n",
    "rows_with_inf <- apply(data.frame(data_list[[3]]$pseudotime), 1, function(x) any(is.infinite(x)))\n",
    "\n",
    "data_list[[3]]$pseudotime[rows_with_inf] <- NA          \n",
    "\n",
    "#xenium_annotated$pseudotime_adj <- ifelse(is.na(xenium_annotated$pseudotime), 0, xenium_annotated$pseudotime+1)"
   ]
  },
  {
   "cell_type": "code",
   "execution_count": null,
   "id": "98ba9073-3e9d-41a9-b3f3-7d817d106aa8",
   "metadata": {
    "vscode": {
     "languageId": "r"
    }
   },
   "outputs": [],
   "source": [
    "options(repr.plot.width = 25, repr.plot.height = 8)\n",
    "\n",
    "DimPlot(data_list[[3]], group.by = \"integrated_snn_res.0.3\")|FeaturePlot(data_list[[3]], features = \"pseudotime\")+  scale_color_viridis_c(option = \"plasma\")|DimPlot(data_list[[3]], group.by = \"cluster_de\")"
   ]
  },
  {
   "cell_type": "code",
   "execution_count": null,
   "id": "dd3b32ab-355c-4d18-8994-83f03c7c035e",
   "metadata": {
    "vscode": {
     "languageId": "r"
    }
   },
   "outputs": [],
   "source": [
    "head(data_list[[3]])"
   ]
  },
  {
   "cell_type": "code",
   "execution_count": null,
   "id": "f86f0938-d5d0-4a63-bba7-aa47f3db13bb",
   "metadata": {
    "vscode": {
     "languageId": "r"
    }
   },
   "outputs": [],
   "source": [
    "sub <- subset(data_list[[3]], subset = cluster8_ind == \"Other\", invert = T)\n",
    "VlnPlot(sub, features = \"pseudotime\",group.by = \"cluster8_ind\")|SpatialFeaturePlot(data_list[[3]], features = \"pseudotime\", pt.size.factor = 2.5)|\n",
    "SpatialDimPlot(data_list[[3]], group.by = \"cluster8_ind\", pt.size.factor = 2.5)"
   ]
  },
  {
   "cell_type": "code",
   "execution_count": null,
   "id": "86fd95f8-b6f2-4294-aaa0-a9ae538d3245",
   "metadata": {
    "vscode": {
     "languageId": "r"
    }
   },
   "outputs": [],
   "source": [
    "ciliated_cds_pr_test_res <- graph_test(xen, neighbor_graph=\"principal_graph\", cores=4)\n",
    "pr_deg_ids <- row.names(subset(ciliated_cds_pr_test_res, q_value < 0.05))"
   ]
  },
  {
   "cell_type": "code",
   "execution_count": null,
   "id": "81dfabbd-956c-49bf-ba3f-767dbad2af48",
   "metadata": {
    "scrolled": true,
    "vscode": {
     "languageId": "r"
    }
   },
   "outputs": [],
   "source": [
    "ciliated_cds_pr_test_res[order(-ciliated_cds_pr_test_res$morans_I),]"
   ]
  },
  {
   "cell_type": "code",
   "execution_count": null,
   "id": "afcf441b-337c-4ec9-bbab-eb4f3e3c1831",
   "metadata": {
    "vscode": {
     "languageId": "r"
    }
   },
   "outputs": [],
   "source": [
    "data_list[[3]] <- AddModuleScore(object =  data_list[[3]], features = list(\"cin\" = c('SERPINB13','SERPINB5','CLDN1','TP63','CDKN2A','TNS4','DSC3')), name = \"CIN_genes\", assay = \"SCT\", nbin = 5)    \n",
    "data_list[[3]] <- AddModuleScore(object =  data_list[[3]], features = list(\"normal\" = c('KRT6C','GJB6','SBSN','KRTDAP','KRT6B')), name = \"normal_genes\", assay = \"SCT\", nbin = 5)             "
   ]
  },
  {
   "cell_type": "code",
   "execution_count": null,
   "id": "6470b413-f8d2-4673-85dc-7addbca339e6",
   "metadata": {
    "vscode": {
     "languageId": "r"
    }
   },
   "outputs": [],
   "source": [
    "options(repr.plot.width = 35, repr.plot.height = 8)\n",
    "p  <- (SpatialDimPlot(data_list[[3]], group.by = \"cluster8_ind\", pt.size.factor = 2.5)|\n",
    "SpatialFeaturePlot(data_list[[3]], features = \"pseudotime\", pt.size.factor = 2.5)|\n",
    "SpatialFeaturePlot(data_list[[3]], features = \"IGFBP5\", pt.size.factor = 2.5)|\n",
    "SpatialFeaturePlot(data_list[[3]], features = \"normal_genes1\", pt.size.factor = 2.5)|\n",
    "SpatialFeaturePlot(data_list[[3]], features = \"CIN_genes1\", pt.size.factor = 2.5))\n",
    "\n",
    "p"
   ]
  },
  {
   "cell_type": "code",
   "execution_count": null,
   "id": "921f48c5-d2ed-4474-b930-d793560bbe88",
   "metadata": {
    "vscode": {
     "languageId": "r"
    }
   },
   "outputs": [],
   "source": []
  },
  {
   "cell_type": "markdown",
   "id": "8efab283-e36d-4dd7-9918-2c3514afc824",
   "metadata": {},
   "source": [
    "## Public data"
   ]
  },
  {
   "cell_type": "code",
   "execution_count": null,
   "id": "b49d51d1-fef9-4e26-812c-0842a5696c46",
   "metadata": {
    "vscode": {
     "languageId": "r"
    }
   },
   "outputs": [],
   "source": [
    "public <- readRDS( \"~/data_list.RDS\")"
   ]
  },
  {
   "cell_type": "code",
   "execution_count": null,
   "id": "48eca4b2-b90c-43aa-ab60-4238fe70b86c",
   "metadata": {
    "vscode": {
     "languageId": "r"
    }
   },
   "outputs": [],
   "source": [
    "for (sample in names(public)){\n",
    "    public[[sample]] <- SCTransform(public[[sample]], verbose = F)\n",
    "}"
   ]
  },
  {
   "cell_type": "code",
   "execution_count": null,
   "id": "c2590589-5b80-4a80-84bd-b5da51cd97b6",
   "metadata": {
    "vscode": {
     "languageId": "r"
    }
   },
   "outputs": [],
   "source": [
    "public_merged <- merge(public[[1]], public[2:length(public)])\n",
    "public_merged <- JoinLayers(public_merged, assay = \"RNA\")"
   ]
  },
  {
   "cell_type": "code",
   "execution_count": null,
   "id": "4e5686d4-4ede-40f0-bfd9-cdd807f366c8",
   "metadata": {
    "vscode": {
     "languageId": "r"
    }
   },
   "outputs": [],
   "source": [
    "public_merged$sample <- unlist(lapply(rownames(public_merged@meta.data), function(x) { strsplit(x, split = \"_\")[[1]][2]}))"
   ]
  },
  {
   "cell_type": "code",
   "execution_count": null,
   "id": "067bc01d-1c34-42c7-afbd-6f069d1a99bc",
   "metadata": {
    "vscode": {
     "languageId": "r"
    }
   },
   "outputs": [],
   "source": [
    "public_merged <- AddModuleScore(object =  public_merged, features = list(\"cin\" = c('SERPINB13','SERPINB5','CLDN1','TP63','CDKN2A','TNS4','DSC3')), name = \"CIN_genes\", assay = \"SCT\")\n",
    "public_merged <- AddModuleScore(object =  public_merged, features = list(\"scc\" = c('CASP14','PSORS1C2','DNAH17','SERPINB12','SLC44A5','TCHH','PNLDC1','DIAPH3','CPA4','CALML5' )), name = \"SCC_genes\", assay = \"SCT\")\n",
    "public_merged <- AddModuleScore(object =  public_merged, features = list(\"normal\" = c('KRT6C','GJB6','SBSN','KRTDAP','KRT6B')), name = \"normal_genes\", assay = \"SCT\")             \n",
    "public_merged <- AddModuleScore(object =  public_merged, features = list(\"cancer\" = c(\"SERPINB3\", \"TP63\", \"KRT5\", \"CDKN2A\")), name = \"Cancer_MS\", assay = \"SCT\")  \n",
    "public_merged <- AddModuleScore(object =  public_merged, features = list(\"IL34_CSF1R\" = c(\"IL34\", \"CSF1R\")), name = \"IL34_CSF1R\", assay = \"SCT\")  "
   ]
  },
  {
   "cell_type": "code",
   "execution_count": null,
   "id": "df201362-38a5-4e95-b51e-4866a2394beb",
   "metadata": {
    "vscode": {
     "languageId": "r"
    }
   },
   "outputs": [],
   "source": [
    "options(repr.plot.width = 10, repr.plot.height = 8)\n",
    "\n",
    "public_data <- VlnPlot(public_merged, features = c(\"nCount_RNA\", \"nFeature_RNA\"), group.by = \"sample\", ncol = 1, log = T)\n",
    "inhouse_data <- VlnPlot(int.data, features = c(\"nCount_Spatial\", \"nFeature_Spatial\"), group.by = \"sample\", ncol = 1, log = T)"
   ]
  },
  {
   "cell_type": "code",
   "execution_count": null,
   "id": "2cafda4b-f9a0-4c88-b27c-95d08eda967a",
   "metadata": {
    "scrolled": true,
    "vscode": {
     "languageId": "r"
    }
   },
   "outputs": [],
   "source": [
    "public_df <- public_data[[1]]$data\n",
    "public_df$data <- public_df$nCount_RNA\n",
    "public_df$sample <- \"public\"\n",
    "public_df$nCount_RNA <- NULL\n",
    "public_df$ident <- paste0(public_df$ident, \"_public\")\n",
    "rownames(public_df) <- paste0(rownames(public_df), \"_p\")\n",
    "\n",
    "inhouse_df <- inhouse_data[[1]]$data\n",
    "inhouse_df$data <- inhouse_df$nCount_Spatial\n",
    "inhouse_df$sample <- \"in-house\"\n",
    "inhouse_df$nCount_Spatial <- NULL\n",
    "inhouse_df$ident <- paste0(inhouse_df$ident, \"_public\")\n",
    "rownames(inhouse_df) <- paste0(rownames(inhouse_df), \"_h\")\n",
    "\n",
    "df <- rbind(public_df, inhouse_df)\n"
   ]
  },
  {
   "cell_type": "code",
   "execution_count": null,
   "id": "ede83b2a-0a57-40a0-b4ca-cd655c414cb5",
   "metadata": {
    "vscode": {
     "languageId": "r"
    }
   },
   "outputs": [],
   "source": [
    "p1 <- ggplot(df, aes(x = factor(ident), y = data, fill = sample)) +\n",
    "  geom_boxplot() +\n",
    "  geom_hline(yintercept = median(int.data$nCount_Spatial), color = \"red\", linetype = \"dashed\") +\n",
    "     scale_y_log10() +\n",
    "  labs(x = \"Ident Group\", y = \"nCount_RNA\") +\n",
    "  theme_classic()"
   ]
  },
  {
   "cell_type": "code",
   "execution_count": null,
   "id": "ccf87acc-97d1-4967-83f1-ca83d7faf7a4",
   "metadata": {
    "vscode": {
     "languageId": "r"
    }
   },
   "outputs": [],
   "source": [
    "public_df <- public_data[[2]]$data\n",
    "public_df$data <- public_df$nFeature_RNA\n",
    "public_df$sample <- \"public\"\n",
    "public_df$nFeature_RNA <- NULL\n",
    "public_df$ident <- paste0(public_df$ident, \"_public\")\n",
    "rownames(public_df) <- paste0(rownames(public_df), \"_p\")\n",
    "\n",
    "inhouse_df <- inhouse_data[[2]]$data\n",
    "inhouse_df$data <- inhouse_df$nFeature_Spatial\n",
    "inhouse_df$sample <- \"in-house\"\n",
    "inhouse_df$nFeature_Spatial <- NULL\n",
    "inhouse_df$ident <- paste0(inhouse_df$ident, \"_public\")\n",
    "rownames(inhouse_df) <- paste0(rownames(inhouse_df), \"_h\")\n",
    "\n",
    "df <- rbind(public_df, inhouse_df)\n",
    "\n",
    "\n",
    "p2 <- ggplot(df, aes(x = factor(ident), y = data, fill = sample)) +\n",
    "  geom_boxplot() +\n",
    "  geom_hline(yintercept = median(int.data$nFeature_Spatial), color = \"red\", linetype = \"dashed\") +\n",
    " #scale_y_log10() +\n",
    "  labs(x = \"Ident Group\", y = \"nCount_RNA\") +\n",
    "  theme_classic()"
   ]
  },
  {
   "cell_type": "code",
   "execution_count": null,
   "id": "e84ca775-5111-44fa-884a-ff2203c4e4e3",
   "metadata": {
    "vscode": {
     "languageId": "r"
    }
   },
   "outputs": [],
   "source": [
    "options(repr.plot.width = 10, repr.plot.height = 4)\n",
    "p1\n",
    "p2"
   ]
  },
  {
   "cell_type": "code",
   "execution_count": null,
   "id": "a5b2909f-fc62-44c9-813b-c841bb1472e3",
   "metadata": {
    "vscode": {
     "languageId": "r"
    }
   },
   "outputs": [],
   "source": []
  },
  {
   "cell_type": "code",
   "execution_count": null,
   "id": "2c9ce4de-e2af-47e5-8371-b1cf348ee8fe",
   "metadata": {
    "vscode": {
     "languageId": "r"
    }
   },
   "outputs": [],
   "source": [
    "library(viridis)\n",
    "samps <- unlist(lapply(names(public), function(x) {strsplit(x, \"_\")[[1]][2]}))\n",
    "sizes <- c(3,2,2.3,2)\n",
    "\n",
    "options(repr.plot.width = 15, repr.plot.height = 5)\n",
    "patchwork::wrap_plots(lapply(names(public_merged@images), function(fov){ImageFeaturePlot(public_merged, fov = fov, features = \"CDH16\", size = sizes[which(names(public_merged@images) == fov)], dark.background = F)& coord_flip() & scale_x_reverse()& scale_fill_gradientn(colours = viridisLite::viridis(10), limits = c(0, 1),\n",
    "                                                                                                                                                      na.value = viridis(10)[1]) & ggtitle(samps[which(names(public_merged@images) == fov)])}), ncol = 4)\n",
    "\n",
    "patchwork::wrap_plots(lapply(names(public_merged@images), function(fov){ImageFeaturePlot(public_merged, fov = fov, features = \"CDH17\", size = sizes[which(names(public_merged@images) == fov)], dark.background = F)& coord_flip() & scale_x_reverse()& scale_fill_gradientn(colours = viridisLite::viridis(10), limits = c(0, 1),\n",
    "                                                                                                                                                      na.value = viridis(10)[1]) & ggtitle(samps[which(names(public_merged@images) == fov)])}), ncol = 4)\n",
    "\n",
    "\n",
    "patchwork::wrap_plots(lapply(names(public_merged@images), function(fov){ImageFeaturePlot(public_merged, fov = fov, features = \"VSIG1\", size = sizes[which(names(public_merged@images) == fov)], dark.background = F)& coord_flip() & scale_x_reverse()& scale_fill_gradientn(colours = viridisLite::viridis(10), limits = c(0, 1),\n",
    "                                                                                                                                                      na.value = viridis(10)[1]) & ggtitle(samps[which(names(public_merged@images) == fov)])}), ncol = 4)\n",
    "\n",
    "\n",
    "patchwork::wrap_plots(lapply(names(public_merged@images), function(fov){ImageFeaturePlot(public_merged, fov = fov, features = \"CTSE\", size = sizes[which(names(public_merged@images) == fov)], dark.background = F)& coord_flip() & scale_x_reverse()& scale_fill_gradientn(colours = viridisLite::viridis(10), limits = c(0, 1),\n",
    "                                                                                                                                                      na.value = viridis(10)[1]) & ggtitle(samps[which(names(public_merged@images) == fov)])}), ncol = 4)\n"
   ]
  },
  {
   "cell_type": "code",
   "execution_count": null,
   "id": "25ba1a29-afd0-4b8a-b00d-6521becbf97e",
   "metadata": {
    "vscode": {
     "languageId": "r"
    }
   },
   "outputs": [],
   "source": [
    "\n",
    "options(repr.plot.width = 15, repr.plot.height = 7)\n",
    "p <- VlnPlot(public_merged, features = c(\"CIN_genes1\", \"Cancer_MS1\", \"SCC_genes1\", \"IL34_CSF1R1\"), group.by = \"sample\", ncol = 2)\n",
    "\n",
    "ggsave(p , filename = \"~/CIN_public_vlns.pdf\", height = 7, width = 15)"
   ]
  },
  {
   "cell_type": "code",
   "execution_count": null,
   "id": "75d7cec1-408b-4256-b18a-f88467009479",
   "metadata": {
    "scrolled": true,
    "vscode": {
     "languageId": "r"
    }
   },
   "outputs": [],
   "source": [
    "library(viridisLite)\n",
    "\n",
    "samps <- unlist(lapply(names(public), function(x) {strsplit(x, \"_\")[[1]][2]}))\n",
    "sizes <- c(3,2,2.3,2)\n",
    "\n",
    "options(repr.plot.width = 20, repr.plot.height = 12)\n",
    "p <- patchwork::wrap_plots(lapply(names(public_merged@images), function(fov){ImageFeaturePlot(public_merged, fov = fov, features = \"Cancer_MS1\", size = sizes[which(names(public_merged@images) == fov)], dark.background = F)& coord_flip() & scale_x_reverse()& scale_fill_gradientn(colours = viridisLite::viridis(10), limits = c(0, 1),\n",
    "                                                                                                                                                      na.value = viridis(10)[1]) & ggtitle(samps[which(names(public_merged@images) == fov)])}), ncol = 4)\n",
    "p2 <- patchwork::wrap_plots(lapply(names(public_merged@images), function(fov){ImageFeaturePlot(public_merged, fov = fov, features = \"SCC_genes1\", size = sizes[which(names(public_merged@images) == fov)], dark.background = F)& coord_flip() & scale_x_reverse()& scale_fill_gradientn(colours = viridisLite::viridis(10), limits = c(0, 1),\n",
    "                                                                                                                                                      na.value = viridis(10)[1]) &ggtitle(samps[which(names(public_merged@images) == fov)])}), ncol = 4)\n",
    "\n",
    "p3 <- patchwork::wrap_plots(lapply(names(public_merged@images), function(fov){ImageFeaturePlot(public_merged, fov = fov, features = \"IL34_CSF1R1\", size = sizes[which(names(public_merged@images) == fov)], dark.background = F)& coord_flip() & scale_x_reverse()& scale_fill_gradientn(colours = viridisLite::viridis(10), limits = c(0, 1),\n",
    "                                                                                                                                                      na.value = viridis(10)[1]) &ggtitle(samps[which(names(public_merged@images) == fov)])}), ncol = 4)\n",
    "\n",
    "p/p2/p3\n",
    "\n",
    "ggsave((p/p2/p3) , filename = \"~/CIN_public_Spatial_MSs.pdf\", height = 12, width = 20)"
   ]
  },
  {
   "cell_type": "code",
   "execution_count": null,
   "id": "1c0a00e4-e0a2-4e59-94fb-20ebdf4cc1d2",
   "metadata": {
    "vscode": {
     "languageId": "r"
    }
   },
   "outputs": [],
   "source": [
    "options(repr.plot.width = 20, repr.plot.height = 6)\n",
    "p <- FeatureScatter(public_merged, feature1 = \"CIN_genes1\", \"IL34_CSF1R1\", split.by = \"sample\")\n",
    "plot_data <- p[[1]]\n",
    "plot_data$colors <- ifelse(plot_data$CIN_genes1 < 0, \"red\", \"blue\") \n",
    "# Make sure `sample` is a factor if you want ordered facets\n",
    "plot_data$sample <- as.factor(plot_data$sample)\n",
    "\n",
    " p <- ggplot(plot_data, aes(x = CIN_genes1, y = IL34_CSF1R1, colour = colors)) +\n",
    "  geom_point(size = 1) +\n",
    "  geom_smooth(method = \"lm\", se = FALSE, colour = \"black\", linewidth = 0.5) +\n",
    "     facet_wrap(~ sample, ncol = 4) +\n",
    "    scale_colour_identity() +  # Uses the exact colours in `colors` column\n",
    "  theme_classic() +\n",
    "  labs(x = \"CIN_genes1\", y = \"IL34_CSF1R1\", title = \"Per-sample Scatter Plot with Trend Line\")\n",
    "\n",
    "p \n",
    "\n",
    "ggsave(p , filename = \"~/CIN_public_MSs.pdf\", height = 6, width = 20)"
   ]
  },
  {
   "cell_type": "code",
   "execution_count": null,
   "id": "96946978-fc8f-4823-b20d-2c4e26c4e882",
   "metadata": {
    "vscode": {
     "languageId": "r"
    }
   },
   "outputs": [],
   "source": []
  }
 ],
 "metadata": {
  "kernelspec": {
   "display_name": "R",
   "language": "R",
   "name": "ir"
  },
  "language_info": {
   "codemirror_mode": "r",
   "file_extension": ".r",
   "mimetype": "text/x-r-source",
   "name": "R",
   "pygments_lexer": "r",
   "version": "4.3.3"
  }
 },
 "nbformat": 4,
 "nbformat_minor": 5
}
